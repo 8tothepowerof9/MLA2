{
 "cells": [
  {
   "cell_type": "code",
   "execution_count": 3,
   "id": "ce2575e0",
   "metadata": {},
   "outputs": [],
   "source": [
    "import os\n",
    "import json\n",
    "import numpy as np\n",
    "from PIL import Image, ImageDraw\n",
    "from torchvision import transforms\n",
    "import random\n",
    "import shutil\n"
   ]
  },
  {
   "cell_type": "code",
   "execution_count": null,
   "id": "0716d18c",
   "metadata": {},
   "outputs": [],
   "source": [
    "json_dir = \"data/sampled_rice_images/json\"\n",
    "output_dir = \"data/sampled_rice_masks\"\n",
    "os.makedirs(output_dir, exist_ok=True)\n",
    "\n",
    "for fname in os.listdir(json_dir):\n",
    "    if not fname.endswith(\".json\"):\n",
    "        continue\n",
    "\n",
    "    path = os.path.join(json_dir, fname)\n",
    "    with open(path, \"r\") as f:\n",
    "        data = json.load(f)\n",
    "\n",
    "    img_shape = data.get(\"imageHeight\"), data.get(\"imageWidth\")\n",
    "    mask = Image.new(\"L\", (img_shape[1], img_shape[0]), 0)  # (width, height)\n",
    "    draw = ImageDraw.Draw(mask)\n",
    "\n",
    "    for shape in data[\"shapes\"]:\n",
    "        points = shape[\"points\"]\n",
    "        polygon = [tuple(p) for p in points]\n",
    "        draw.polygon(polygon, outline=255, fill=255)\n",
    "\n",
    "    out_path = os.path.join(output_dir, fname.replace(\".json\", \".png\"))\n",
    "    mask.save(out_path)"
   ]
  },
  {
   "cell_type": "code",
   "execution_count": 4,
   "id": "3afe62cd",
   "metadata": {},
   "outputs": [],
   "source": [
    "import os\n",
    "image_dir = \"data/rice_images\"           # Input images in subfolders\n",
    "mask_dir = \"data/generated_rice_masks\"         # Corresponding masks in same subfolder structure\n",
    "output_dir = \"data/masked_rice_images\"         # Output masked images\n",
    "os.makedirs(output_dir, exist_ok=True)\n",
    "\n",
    "transform = transforms.Compose([\n",
    "    transforms.Resize((224, 224)),\n",
    "    transforms.ToTensor()\n",
    "])\n",
    "\n",
    "for root, _, files in os.walk(image_dir):\n",
    "    for fname in files:\n",
    "        if not fname.lower().endswith(('.png', '.jpg', '.jpeg')):\n",
    "            continue\n",
    "\n",
    "        img_path = os.path.join(root, fname)\n",
    "        relative_path = os.path.relpath(img_path, image_dir)\n",
    "        mask_path = os.path.join(mask_dir, relative_path)\n",
    "        out_path = os.path.join(output_dir, relative_path)\n",
    "\n",
    "        if not os.path.exists(mask_path):\n",
    "            print(f\"Skipping {relative_path} — no mask found\")\n",
    "            continue\n",
    "\n",
    "        try:\n",
    "            os.makedirs(os.path.dirname(out_path), exist_ok=True)\n",
    "\n",
    "            image = transform(Image.open(img_path).convert(\"RGB\"))\n",
    "            mask = transform(Image.open(mask_path).convert(\"L\"))\n",
    "            masked = image * mask  # broadcast\n",
    "\n",
    "            masked_img = transforms.ToPILImage()(masked)\n",
    "            masked_img.save(out_path)\n",
    "        except Exception as e:\n",
    "            print(f\"[ERROR] Failed to process {img_path}: {e}\")\n"
   ]
  },
  {
   "cell_type": "code",
   "execution_count": null,
   "id": "581e48eb",
   "metadata": {},
   "outputs": [
    {
     "name": "stdout",
     "output_type": "stream",
     "text": [
      "✅ Sampled 10 images from blast\n",
      "✅ Sampled 10 images from brown_spot\n",
      "✅ Sampled 10 images from hispa\n",
      "✅ Sampled 10 images from normal\n"
     ]
    }
   ],
   "source": [
    "\n",
    "def sample_images_per_class(source_dir=\"data/rice_images\", dest_dir=\"data/sampled_rice_images\", num_samples=10):\n",
    "    os.makedirs(dest_dir, exist_ok=True)\n",
    "\n",
    "    for class_name in os.listdir(source_dir):\n",
    "        class_path = os.path.join(source_dir, class_name)\n",
    "        if not os.path.isdir(class_path):\n",
    "            continue\n",
    "\n",
    "        image_files = [f for f in os.listdir(class_path) if f.lower().endswith((\".jpg\", \".jpeg\", \".png\"))]\n",
    "        sampled_files = random.sample(image_files, min(num_samples, len(image_files)))\n",
    "\n",
    "        dest_class_path = os.path.join(dest_dir, class_name)\n",
    "        os.makedirs(dest_class_path, exist_ok=True)\n",
    "\n",
    "        for file_name in sampled_files:\n",
    "            src = os.path.join(class_path, file_name)\n",
    "            dst = os.path.join(dest_class_path, file_name)\n",
    "            shutil.copy2(src, dst)\n",
    "\n",
    "        print(f\"✅ Sampled {len(sampled_files)} images from {class_name}\")\n",
    "\n",
    "# Run it\n",
    "sample_images_per_class(\"data/rice_images\", \"data/sampled_rice_images\", num_samples=10)\n"
   ]
  }
 ],
 "metadata": {
  "kernelspec": {
   "display_name": "pytorch",
   "language": "python",
   "name": "python3"
  },
  "language_info": {
   "codemirror_mode": {
    "name": "ipython",
    "version": 3
   },
   "file_extension": ".py",
   "mimetype": "text/x-python",
   "name": "python",
   "nbconvert_exporter": "python",
   "pygments_lexer": "ipython3",
   "version": "3.9.21"
  }
 },
 "nbformat": 4,
 "nbformat_minor": 5
}
